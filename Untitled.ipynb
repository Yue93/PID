{
 "cells": [
  {
   "cell_type": "code",
   "execution_count": 2,
   "metadata": {
    "collapsed": true
   },
   "outputs": [],
   "source": [
    "from scipy import ndimage\n",
    "import numpy as np\n",
    "import math\n",
    "import matplotlib.pyplot as plt\n",
    "import matplotlib.image as mpimg\n",
    "from skimage import io\n",
    "import Image\n",
    "import os"
   ]
  },
  {
   "cell_type": "code",
   "execution_count": null,
   "metadata": {
    "collapsed": true
   },
   "outputs": [],
   "source": []
  },
  {
   "cell_type": "code",
   "execution_count": 8,
   "metadata": {
    "collapsed": true
   },
   "outputs": [],
   "source": [
    "def alineacion():\n",
    "    raiz=\"C:\\Users\\SIR\\Desktop\\UNIVERSIDAD DE BARCELONA\\Curso 15-16\\Procesamiento de imagenes\\Practica\\Practica1\"\n",
    "    #LOAD IMAGES\n",
    "    img1 = Image.open(raiz+\"\\human.png\")\n",
    "    img2 = Image.open(raiz+\"\\cat.png\")\n",
    "    #RESIZE\n",
    "    size1=int(round(img1.size[0]*(4/3.)));\n",
    "    size2=int(round(img1.size[1]*(4/3.)));\n",
    "    img1=img1.resize((size1,size2), Image.ANTIALIAS)\n",
    "    #CROP\n",
    "    left = 50\n",
    "    top = 50\n",
    "    right = 51+img2.size[0]-1\n",
    "    bottom = 51+img2.size[1]-1\n",
    "    img1=img1.crop((left, top, right, bottom))\n",
    "    # VISUALIZATION ---------------\n",
    "    plt.figure(1)\n",
    "    plt.subplot(131)\n",
    "    imgplot1=plt.imshow(img1)\n",
    "    imgplot1.set_cmap('gray')\n",
    "    plt.subplot(132)\n",
    "    imgplot1=plt.imshow(img2)\n",
    "    imgplot1.set_cmap('gray')\n"
   ]
  },
  {
   "cell_type": "code",
   "execution_count": null,
   "metadata": {
    "collapsed": true
   },
   "outputs": [],
   "source": []
  },
  {
   "cell_type": "code",
   "execution_count": null,
   "metadata": {
    "collapsed": true
   },
   "outputs": [],
   "source": []
  },
  {
   "cell_type": "code",
   "execution_count": 6,
   "metadata": {
    "collapsed": true
   },
   "outputs": [],
   "source": []
  },
  {
   "cell_type": "code",
   "execution_count": null,
   "metadata": {
    "collapsed": true
   },
   "outputs": [],
   "source": []
  },
  {
   "cell_type": "code",
   "execution_count": null,
   "metadata": {
    "collapsed": true
   },
   "outputs": [],
   "source": []
  },
  {
   "cell_type": "code",
   "execution_count": null,
   "metadata": {
    "collapsed": true
   },
   "outputs": [],
   "source": []
  },
  {
   "cell_type": "code",
   "execution_count": null,
   "metadata": {
    "collapsed": true
   },
   "outputs": [],
   "source": []
  },
  {
   "cell_type": "code",
   "execution_count": null,
   "metadata": {
    "collapsed": true
   },
   "outputs": [],
   "source": []
  },
  {
   "cell_type": "code",
   "execution_count": null,
   "metadata": {
    "collapsed": true
   },
   "outputs": [],
   "source": []
  },
  {
   "cell_type": "code",
   "execution_count": null,
   "metadata": {
    "collapsed": true
   },
   "outputs": [],
   "source": []
  },
  {
   "cell_type": "code",
   "execution_count": null,
   "metadata": {
    "collapsed": true
   },
   "outputs": [],
   "source": []
  }
 ],
 "metadata": {
  "kernelspec": {
   "display_name": "Python 2",
   "language": "python",
   "name": "python2"
  },
  "language_info": {
   "codemirror_mode": {
    "name": "ipython",
    "version": 2
   },
   "file_extension": ".py",
   "mimetype": "text/x-python",
   "name": "python",
   "nbconvert_exporter": "python",
   "pygments_lexer": "ipython2",
   "version": "2.7.7"
  }
 },
 "nbformat": 4,
 "nbformat_minor": 0
}
